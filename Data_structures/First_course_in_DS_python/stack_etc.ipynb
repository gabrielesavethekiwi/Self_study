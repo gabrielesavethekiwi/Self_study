{
 "cells": [
  {
   "cell_type": "markdown",
   "metadata": {},
   "source": [
    "The idea to implement a stack is to create a private hidden internal list. We will leverage the list methods but someone who interfaces with the class may only guess that there is a list behind the scenes."
   ]
  },
  {
   "cell_type": "code",
   "execution_count": 3,
   "metadata": {},
   "outputs": [],
   "source": [
    "class ListStack:\n",
    "    def __init__(self):\n",
    "        self._List = []\n",
    "    \n",
    "    def push(self, item):\n",
    "        self._List.append(item)\n",
    "    \n",
    "    def pop(self):\n",
    "        self._List.pop()\n",
    "    \n",
    "    def peek(self):\n",
    "        print(self._List[-1])\n",
    "    \n",
    "    def __len__(self):\n",
    "        print(len(self._List) )\n"
   ]
  },
  {
   "cell_type": "code",
   "execution_count": 4,
   "metadata": {},
   "outputs": [
    {
     "name": "stdout",
     "output_type": "stream",
     "text": [
      "ahia\n",
      "2\n",
      "ahia\n"
     ]
    }
   ],
   "source": [
    "my_stack = ListStack()\n",
    "my_stack.push(3)\n",
    "my_stack.push('ahia')\n",
    "my_stack.peek()\n",
    "my_stack.__len__()\n",
    "my_stack.peek()\n",
    "my_stack.pop()"
   ]
  },
  {
   "cell_type": "markdown",
   "metadata": {},
   "source": [
    "Queue: FIFO"
   ]
  },
  {
   "cell_type": "code",
   "execution_count": 8,
   "metadata": {},
   "outputs": [],
   "source": [
    "class ListQueue():\n",
    "    def __init__(self):\n",
    "        self._List = []\n",
    "    \n",
    "    def enqueue(self,item):\n",
    "        self._List.append(item)\n",
    "    \n",
    "    def dequeue(self):\n",
    "        #slow, O(N) to copy the elements that follow it\n",
    "        self._List.pop(0)\n",
    "    \n",
    "    def next(self):\n",
    "        print(self._List[0])\n",
    "    \n",
    "    def __len__(self):\n",
    "        #otherwise len(ListQueue) would not make sense\n",
    "        print(len(self._List))\n"
   ]
  },
  {
   "cell_type": "code",
   "execution_count": 9,
   "metadata": {},
   "outputs": [
    {
     "name": "stdout",
     "output_type": "stream",
     "text": [
      "Mario\n",
      "Pino\n",
      "2\n"
     ]
    }
   ],
   "source": [
    "fila = ListQueue()\n",
    "people = ['Mario', 'Luigi', 'Pino', 'Maicol']\n",
    "\n",
    "for person in people:\n",
    "    fila.enqueue(person)\n",
    "\n",
    "fila.next()\n",
    "fila.dequeue()\n",
    "fila.dequeue()\n",
    "fila.next()\n",
    "fila.__len__()"
   ]
  },
  {
   "cell_type": "markdown",
   "metadata": {},
   "source": [
    "There should be minimal testing as good practice. The magic method also should return the length and not None (since we are jsut printing the length). In general, I should not use print statements but return, as return gives us an object that can be further manipulated"
   ]
  },
  {
   "cell_type": "code",
   "execution_count": 17,
   "metadata": {},
   "outputs": [],
   "source": [
    "class ListQueue():\n",
    "\n",
    "    def __init__(self):\n",
    "        ListQueue._PrivateList = []\n",
    "\n",
    "    def enqueue(self,item):\n",
    "        self._PrivateList.append(item)\n",
    "    \n",
    "    def dequeue(self):\n",
    "        #slow O(N)\n",
    "        if self._PrivateList:\n",
    "            return self._PrivateList.pop(0)\n",
    "        else:\n",
    "            raise IndexError(\"Dequeue from an empty queue\")\n",
    "    \n",
    "    def next(self):\n",
    "        if self._PrivateList:\n",
    "            return self._PrivateList[0]\n",
    "        else:\n",
    "            raise IndexError(\"The queue is empty\")\n",
    "    \n",
    "    def __len__(self):\n",
    "        #otherwise len(ListQueue) would not make sense\n",
    "        return(len(self._PrivateList))\n",
    "        "
   ]
  },
  {
   "cell_type": "code",
   "execution_count": 18,
   "metadata": {},
   "outputs": [
    {
     "name": "stdout",
     "output_type": "stream",
     "text": [
      "Mario\n",
      "Pino\n"
     ]
    },
    {
     "data": {
      "text/plain": [
       "2"
      ]
     },
     "execution_count": 18,
     "metadata": {},
     "output_type": "execute_result"
    }
   ],
   "source": [
    "fila = ListQueue()\n",
    "people = ['Mario', 'Luigi', 'Pino', 'Maicol']\n",
    "\n",
    "for person in people:\n",
    "    fila.enqueue(person)\n",
    "\n",
    "print(fila.next())\n",
    "fila.dequeue()\n",
    "fila.dequeue()\n",
    "print(fila.next())\n",
    "fila.__len__()"
   ]
  },
  {
   "cell_type": "markdown",
   "metadata": {},
   "source": [
    "Deque with a list. I need to be able to \n",
    "addfirst\n",
    "removefirst\n",
    "addlast\n",
    "removelast\n",
    "len\n",
    "peekfirst\n",
    "peeklast"
   ]
  },
  {
   "cell_type": "code",
   "execution_count": 19,
   "metadata": {},
   "outputs": [],
   "source": [
    "class ListDeque():\n",
    "    def __init__(self):\n",
    "        ListDeque._deque = []\n",
    "    \n",
    "    def addfirst(self, item):\n",
    "        self._deque.insert(0, item)\n",
    "    \n",
    "    def addlast(self,item):\n",
    "        self._deque.append(item)\n",
    "\n",
    "    def removefirst(self):\n",
    "        if self._deque:\n",
    "            return self._deque.pop(0)\n",
    "        else:\n",
    "            raise IndexError(\"trying to remove from empty deque\")\n",
    "    \n",
    "    def removelast(self):\n",
    "        if self._deque:\n",
    "            return self._deque.pop()\n",
    "        else:\n",
    "            raise IndexError(\"trying to remove from empty deque\")\n",
    "        \n",
    "    def peekfirst(self):\n",
    "        if self._deque:\n",
    "            return self._deque[0]\n",
    "        else:\n",
    "            raise IndexError(\"empty deque\")\n",
    "        \n",
    "    def peeklast(self):\n",
    "        if self._deque:\n",
    "            return self._deque[-1]\n",
    "        else:\n",
    "            raise IndexError(\"empty deque\")"
   ]
  },
  {
   "cell_type": "code",
   "execution_count": 20,
   "metadata": {},
   "outputs": [
    {
     "name": "stdout",
     "output_type": "stream",
     "text": [
      "Adding items...\n",
      "Deque after additions: [5, 10, 20, 30]\n",
      "Peeking at first and last items...\n",
      "First item: 5\n",
      "Last item: 30\n",
      "Removing items...\n",
      "Removed first: 5\n",
      "Removed last: 30\n",
      "Deque after removals: [10, 20]\n",
      "Removing remaining items...\n",
      "Removed first: 10\n",
      "Removed last: 20\n",
      "Deque after all removals: []\n",
      "Error: trying to remove from empty deque\n",
      "Error: trying to remove from empty deque\n",
      "Error: empty deque\n",
      "Error: empty deque\n"
     ]
    }
   ],
   "source": [
    "# Test class for ListDeque\n",
    "def test_list_deque():\n",
    "    # Create an instance of ListDeque\n",
    "    deque = ListDeque()\n",
    "\n",
    "    # Test adding items to the deque\n",
    "    print(\"Adding items...\")\n",
    "    deque.addfirst(10)\n",
    "    deque.addlast(20)\n",
    "    deque.addfirst(5)\n",
    "    deque.addlast(30)\n",
    "\n",
    "    # Check the current state of the deque\n",
    "    print(f\"Deque after additions: {deque._deque}\")  # Expected: [5, 10, 20, 30]\n",
    "\n",
    "    # Test peek methods\n",
    "    print(\"Peeking at first and last items...\")\n",
    "    print(f\"First item: {deque.peekfirst()}\")  # Expected: 5\n",
    "    print(f\"Last item: {deque.peeklast()}\")    # Expected: 30\n",
    "\n",
    "    # Test removing items from the deque\n",
    "    print(\"Removing items...\")\n",
    "    print(f\"Removed first: {deque.removefirst()}\")  # Expected: 5\n",
    "    print(f\"Removed last: {deque.removelast()}\")    # Expected: 30\n",
    "\n",
    "    # Check the current state of the deque\n",
    "    print(f\"Deque after removals: {deque._deque}\")  # Expected: [10, 20]\n",
    "\n",
    "    # Test further removals\n",
    "    print(\"Removing remaining items...\")\n",
    "    print(f\"Removed first: {deque.removefirst()}\")  # Expected: 10\n",
    "    print(f\"Removed last: {deque.removelast()}\")    # Expected: 20\n",
    "\n",
    "    # Check the current state of the deque\n",
    "    print(f\"Deque after all removals: {deque._deque}\")  # Expected: []\n",
    "\n",
    "    # Test edge cases (removing from empty deque)\n",
    "    try:\n",
    "        deque.removefirst()\n",
    "    except IndexError as e:\n",
    "        print(f\"Error: {e}\")  # Expected error\n",
    "\n",
    "    try:\n",
    "        deque.removelast()\n",
    "    except IndexError as e:\n",
    "        print(f\"Error: {e}\")  # Expected error\n",
    "\n",
    "    # Test edge cases (peeking into an empty deque)\n",
    "    try:\n",
    "        deque.peekfirst()\n",
    "    except IndexError as e:\n",
    "        print(f\"Error: {e}\")  # Expected error\n",
    "\n",
    "    try:\n",
    "        deque.peeklast()\n",
    "    except IndexError as e:\n",
    "        print(f\"Error: {e}\")  # Expected error\n",
    "\n",
    "# Run the tests\n",
    "test_list_deque()"
   ]
  },
  {
   "cell_type": "markdown",
   "metadata": {},
   "source": [
    "Leetcode problem on matching parenthesis before going on. A dictionary can make it more generalisable to other symbols"
   ]
  },
  {
   "cell_type": "code",
   "execution_count": 31,
   "metadata": {},
   "outputs": [],
   "source": [
    "class ListStack():\n",
    "    def __init__(self):\n",
    "        self._stack = []\n",
    "    \n",
    "    def push(self,item):\n",
    "        self._stack.append(item)    \n",
    "\n",
    "    def pop(self):\n",
    "        if not self.is_empty():\n",
    "            return self._stack.pop()    \n",
    "        else:\n",
    "            raise IndexError(\"trying to pop empty stack\")\n",
    "        \n",
    "    def peek(self):\n",
    "        if not self.is_empty():\n",
    "            return self._stack[-1]    \n",
    "        else:\n",
    "            raise IndexError(\"trying to pop empty stack\")\n",
    "        \n",
    "    def is_empty(self):\n",
    "        return len(self._stack) == 0\n",
    "        \n",
    "    \n",
    "\n",
    "matching_pairs = {'(':')', '[':']', '{':'}'}\n",
    "\n",
    "class Solution:\n",
    "    def isValid(self, s: str) -> bool:\n",
    "\n",
    "        stack = ListStack()\n",
    "\n",
    "        for character in s:\n",
    "            if character in matching_pairs.keys():\n",
    "                stack.push(character)\n",
    "            #If I find ] it should fail\n",
    "            elif stack.is_empty() or matching_pairs[stack.pop()] != character:\n",
    "                return False\n",
    "        \n",
    "        if stack.is_empty():\n",
    "            return True\n",
    "        else:\n",
    "            return False\n",
    "\n",
    "\n"
   ]
  },
  {
   "cell_type": "code",
   "execution_count": 32,
   "metadata": {},
   "outputs": [
    {
     "name": "stdout",
     "output_type": "stream",
     "text": [
      "True\n",
      "True\n",
      "False\n",
      "False\n",
      "True\n",
      "False\n"
     ]
    }
   ],
   "source": [
    "# Instantiate the Solution class\n",
    "solution = Solution()\n",
    "\n",
    "# Test cases\n",
    "print(solution.isValid(\"()\"))        # Expected output: True\n",
    "print(solution.isValid(\"()[]{}\"))    # Expected output: True\n",
    "print(solution.isValid(\"(]\"))        # Expected output: False\n",
    "print(solution.isValid(\"([)]\"))      # Expected output: False\n",
    "print(solution.isValid(\"{[]}\"))      # Expected output: True\n",
    "print(solution.isValid(\"]\"))      # Expected output: False"
   ]
  }
 ],
 "metadata": {
  "kernelspec": {
   "display_name": "Python (new_lubrication_env)",
   "language": "python",
   "name": "new_lubrication_env"
  },
  "language_info": {
   "codemirror_mode": {
    "name": "ipython",
    "version": 3
   },
   "file_extension": ".py",
   "mimetype": "text/x-python",
   "name": "python",
   "nbconvert_exporter": "python",
   "pygments_lexer": "ipython3",
   "version": "3.8.19"
  }
 },
 "nbformat": 4,
 "nbformat_minor": 2
}
